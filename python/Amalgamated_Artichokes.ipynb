{
 "cells": [
  {
   "cell_type": "markdown",
   "metadata": {},
   "source": [
    "# Amalgamated Artichokes"
   ]
  },
  {
   "cell_type": "markdown",
   "metadata": {},
   "source": [
    "Beskrivelse av koden kan du finne ved følgende link: https://open.kattis.com/problems/artichoke.\n",
    "Du kan teste koden gjennom terminalen, viktig at variablene blir satt etter beskrivelsen gitt av open.kattis.\n"
   ]
  },
  {
   "cell_type": "markdown",
   "metadata": {},
   "source": []
  },
  {
   "cell_type": "code",
   "execution_count": null,
   "metadata": {},
   "outputs": [],
   "source": [
    "import math\n",
    "inp = input().split()\n",
    "\n",
    "p = int(inp[0])\n",
    "a = int(inp[1])\n",
    "b = int(inp[2])\n",
    "c = int(inp[3])\n",
    "d = int(inp[4])\n",
    "n = int(inp[5])\n",
    "\n",
    "\n",
    "max_d = 0\n",
    "\n",
    "start = p*(math.sin(a+b)+math.cos(c+d)+2)\n",
    "for k in range(2,n+1):\n",
    "    \n",
    "    current_price = p*(math.sin(a*k+b)+math.cos(c*k+d)+2)\n",
    "    if current_price < start:\n",
    "        if max_d < start - current_price:\n",
    "            max_d = start - current_price\n",
    "    else:\n",
    "        start = current_price\n",
    "print(max_d)\n",
    "        \n"
   ]
  },
  {
   "cell_type": "code",
   "execution_count": null,
   "metadata": {},
   "outputs": [],
   "source": [
    "import sys\n",
    "import math\n",
    "for i in sys.stdin:\n",
    "    inp = i.split()\n",
    "    p = int(inp[0])\n",
    "    a = int(inp[1])\n",
    "    b = int(inp[2])\n",
    "    c = int(inp[3])\n",
    "    d = int(inp[4])\n",
    "    n = int(inp[5])\n",
    "\n",
    "\n",
    "    max_d = 0\n",
    "\n",
    "    start = p*(math.sin(a+b)+math.cos(c+d)+2)\n",
    "    for k in range(2,n+1):\n",
    "\n",
    "        current_price = p*(math.sin(a*k+b)+math.cos(c*k+d)+2)\n",
    "        if current_price < start:\n",
    "            if max_d < start - current_price:\n",
    "                max_d = start - current_price\n",
    "        else:\n",
    "            start = current_price\n",
    "    sys.stdout.write(str(max_d))"
   ]
  }
 ],
 "metadata": {
  "kernelspec": {
   "display_name": "Python 3",
   "language": "python",
   "name": "python3"
  },
  "language_info": {
   "codemirror_mode": {
    "name": "ipython",
    "version": 3
   },
   "file_extension": ".py",
   "mimetype": "text/x-python",
   "name": "python",
   "nbconvert_exporter": "python",
   "pygments_lexer": "ipython3",
   "version": "3.7.6"
  }
 },
 "nbformat": 4,
 "nbformat_minor": 4
}
