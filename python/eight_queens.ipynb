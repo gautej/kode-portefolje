{
 "cells": [
  {
   "cell_type": "markdown",
   "metadata": {},
   "source": [
    "# Eight Queens"
   ]
  },
  {
   "cell_type": "markdown",
   "metadata": {},
   "source": [
    "Beskrivelse av koden kan du finne ved følgende link: https://open.kattis.com/problems/8queens.\n",
    "Du kan teste koden gjennom terminalen, viktig at variablene blir satt etter beskrivelsen gitt av open.kattis\n"
   ]
  },
  {
   "cell_type": "code",
   "execution_count": 1,
   "metadata": {},
   "outputs": [],
   "source": [
    "def check(l):\n",
    "    test = l\n",
    "    \n",
    "    max_col = len(test[0])\n",
    "    max_row = len(test)\n",
    "    cols = [[] for _ in range(max_col)]\n",
    "    rows = [[] for _ in range(max_row)]\n",
    "    fdiag = [[] for _ in range(max_row + max_col - 1)]\n",
    "    bdiag = [[] for _ in range(len(fdiag))]\n",
    "    min_bdiag = -max_row + 1\n",
    "\n",
    "    for x in range(max_col):\n",
    "        for y in range(max_row):\n",
    "            cols[x].append(test[y][x])\n",
    "            rows[y].append(test[y][x])\n",
    "            fdiag[x+y].append(test[y][x])\n",
    "            bdiag[x-y-min_bdiag].append(test[y][x])\n",
    "            \n",
    "    for i in cols:\n",
    "        if sum(i) > 1:\n",
    "            return \"invalid\"    \n",
    "    for i in rows:\n",
    "        if sum(i) > 1:\n",
    "            return \"invalid\"\n",
    "    for i in fdiag:\n",
    "        if sum(i) > 1:\n",
    "            return \"invalid\"\n",
    "    for i in bdiag:\n",
    "        if sum(i) > 1:\n",
    "            return \"invalid\"\n",
    "    return \"valid\"\n",
    "\n",
    "import sys\n",
    "l = []\n",
    "step = []\n",
    "count = 0\n",
    "for i in sys.stdin:\n",
    "    step = []\n",
    "    for j in i:\n",
    "        if count == 8:\n",
    "            break\n",
    "        elif j == \".\":\n",
    "            step.append(0)\n",
    "            count += 1\n",
    "        else:\n",
    "            step.append(1)\n",
    "            count += 1\n",
    "    l.append(step)\n",
    "    count = 0\n",
    "    if len(l) == 8:\n",
    "        sum_ = sum([sum(i) for i in l])\n",
    "        if sum_ != 8:\n",
    "            print(\"invalid\")\n",
    "            break\n",
    "        else:\n",
    "            print(check(l))\n",
    "            break"
   ]
  }
 ],
 "metadata": {
  "kernelspec": {
   "display_name": "Python 3",
   "language": "python",
   "name": "python3"
  },
  "language_info": {
   "codemirror_mode": {
    "name": "ipython",
    "version": 3
   },
   "file_extension": ".py",
   "mimetype": "text/x-python",
   "name": "python",
   "nbconvert_exporter": "python",
   "pygments_lexer": "ipython3",
   "version": "3.7.6"
  }
 },
 "nbformat": 4,
 "nbformat_minor": 4
}
