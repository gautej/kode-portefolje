{
 "cells": [
  {
   "cell_type": "markdown",
   "metadata": {},
   "source": [
    "# Wizzard of odds\n"
   ]
  },
  {
   "cell_type": "markdown",
   "metadata": {},
   "source": [
    "Om du ønsker å test løsningen kan det gjøres gjennom kattis.com (vær oppmerksom på at det er anticheat på siden, så variable navnene må mest sannsynlig endres), eller du kan kjøre koden i terminalen (2≤n≤10**101, 0≤n≤k).\n",
    "\n",
    "Link til beskrivelse av problemet: https://open.kattis.com/problems/amultiplicationgame"
   ]
  },
  {
   "cell_type": "markdown",
   "metadata": {},
   "source": [
    "# Kattis løsning"
   ]
  },
  {
   "cell_type": "code",
   "execution_count": 4,
   "metadata": {},
   "outputs": [],
   "source": [
    "import math\n",
    "import sys\n",
    "\n",
    "for i in sys.stdin:\n",
    "    nk = i.split()\n",
    "    n = int(nk[0])\n",
    "    k = int(nk[1])\n",
    "    if k >= math.log2(n):\n",
    "        print(\"Your wish is granted!\")\n",
    "    else:\n",
    "        print(\"You will become a flying monkey!\")"
   ]
  }
 ],
 "metadata": {
  "kernelspec": {
   "display_name": "Python 3",
   "language": "python",
   "name": "python3"
  },
  "language_info": {
   "codemirror_mode": {
    "name": "ipython",
    "version": 3
   },
   "file_extension": ".py",
   "mimetype": "text/x-python",
   "name": "python",
   "nbconvert_exporter": "python",
   "pygments_lexer": "ipython3",
   "version": "3.7.6"
  }
 },
 "nbformat": 4,
 "nbformat_minor": 4
}
