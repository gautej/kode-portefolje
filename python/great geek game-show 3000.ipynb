{
 "cells": [
  {
   "cell_type": "markdown",
   "metadata": {},
   "source": [
    "# Great Geek Game-Show 3000"
   ]
  },
  {
   "cell_type": "markdown",
   "metadata": {},
   "source": [
    "Beskrivelse av koden kan du finne ved følgende link: https://open.kattis.com/problems/greatgeekgameshow.\n",
    "Du kan teste koden gjennom terminalen, viktig at variablene blir satt etter beskrivelsen gitt av open.kattis.\n"
   ]
  },
  {
   "cell_type": "code",
   "execution_count": 17,
   "metadata": {},
   "outputs": [],
   "source": [
    "import sys\n",
    "\n",
    "for i in sys.stdin:\n",
    "    nk = i.split()\n",
    "    n = int(nk[0])\n",
    "    k = int(nk[1])\n",
    "\n",
    "    sum_ = 0\n",
    "\n",
    "    q = [0 for i in range(0,n+1)]\n",
    "\n",
    "    for i in range(0,k):\n",
    "        sum_ += 1\n",
    "        q[i] = 1\n",
    "\n",
    "    for i in range(k,n+1):\n",
    "        q[i] = ((1/i)*sum_)\n",
    "        sum_ += ((1/i)*sum_)\n",
    "        sum_ -= q[i-k]\n",
    "    sys.stdout.write(str(q[-1])  + '\\n')"
   ]
  }
 ],
 "metadata": {
  "kernelspec": {
   "display_name": "Python 3",
   "language": "python",
   "name": "python3"
  },
  "language_info": {
   "codemirror_mode": {
    "name": "ipython",
    "version": 3
   },
   "file_extension": ".py",
   "mimetype": "text/x-python",
   "name": "python",
   "nbconvert_exporter": "python",
   "pygments_lexer": "ipython3",
   "version": "3.7.6"
  }
 },
 "nbformat": 4,
 "nbformat_minor": 4
}
