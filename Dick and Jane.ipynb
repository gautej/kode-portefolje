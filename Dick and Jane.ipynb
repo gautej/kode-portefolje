{
 "cells": [
  {
   "cell_type": "markdown",
   "metadata": {},
   "source": [
    "# Dick and Jane"
   ]
  },
  {
   "cell_type": "markdown",
   "metadata": {},
   "source": [
    "Om du ønsker å test løsningen kan det gjøres gjennom kattis.com (vær oppmerksom på at det er anticheat på siden, så variable navnene må mest sannsynlig endres) eller gjennom blokken markert med \"test løsning\".\n",
    "\n",
    "Link til beskrivelse av problemet: https://open.kattis.com/problems/dickandjane"
   ]
  },
  {
   "cell_type": "code",
   "execution_count": 15,
   "metadata": {},
   "outputs": [],
   "source": [
    "def func(s_ny,p_ny,y_ny,corr):\n",
    "    spot_age = y + corr/3 +s_ny\n",
    "\n",
    "    puff_age = p + corr/3 +p_ny\n",
    "\n",
    "    yertle_age = corr/3 +y_ny\n",
    "    \n",
    "    return spot_age,puff_age,yertle_age\n"
   ]
  },
  {
   "cell_type": "code",
   "execution_count": 16,
   "metadata": {},
   "outputs": [],
   "source": [
    "import sys\n",
    "\n",
    "for i in sys.stdin:\n",
    "    spyj = i.split()\n",
    "    s = int(spyj[0])\n",
    "    p = int(spyj[1])\n",
    "    y = int(spyj[2])\n",
    "    j = int(spyj[3])\n",
    "    \n",
    "    \n",
    "    david = 12\n",
    "    jane = j\n",
    "    sum_d_j = jane + david\n",
    "    sum_pet = y + p\n",
    "    corr =  sum_d_j - sum_pet\n",
    "    \n",
    "    if corr%3 == 0:\n",
    "        corr =  sum_d_j - sum_pet\n",
    "        s_ny,p_ny,y_ny = 0,0,0\n",
    "        spot_age,puff_age,yertle_age = func(s_ny,p_ny,y_ny,corr)\n",
    "        \n",
    "\n",
    "\n",
    "    elif corr%3 == 2: \n",
    "        corr = corr - 2\n",
    "        s_ny,p_ny,y_ny = 1,1,0\n",
    "        spot_age,puff_age,yertle_age = func(s_ny,p_ny,y_ny,corr)\n",
    "    \n",
    "    else:\n",
    "        if y - s == p:\n",
    "            corr = corr - 1\n",
    "            s_ny,p_ny,y_ny = 1,0,0\n",
    "            spot_age,puff_age,yertle_age = func(s_ny,p_ny,y_ny,corr)\n",
    "    \n",
    "        else:\n",
    "            corr = corr - 1\n",
    "            s_ny,p_ny,y_ny = 0,1,0\n",
    "            spot_age,puff_age,yertle_age = func(s_ny,p_ny,y_ny,corr)\n",
    "            \n",
    "    \n",
    "    print(int(spot_age),int(puff_age),int(yertle_age))"
   ]
  },
  {
   "cell_type": "markdown",
   "metadata": {},
   "source": [
    "# Test Løsning"
   ]
  },
  {
   "cell_type": "code",
   "execution_count": 23,
   "metadata": {},
   "outputs": [
    {
     "name": "stdout",
     "output_type": "stream",
     "text": [
      "5 5 3\n"
     ]
    }
   ],
   "source": [
    "#skriv ønsket input i listen spyj. \n",
    "spyj = [1,1,1,1]\n",
    "s = int(spyj[0])\n",
    "p = int(spyj[1])\n",
    "y = int(spyj[2])\n",
    "j = int(spyj[3])\n",
    "\n",
    "\n",
    "david = 12\n",
    "jane = j\n",
    "sum_d_j = jane + david\n",
    "sum_pet = y + p\n",
    "corr =  sum_d_j - sum_pet\n",
    "\n",
    "if corr%3 == 0:\n",
    "    corr =  sum_d_j - sum_pet\n",
    "    s_ny,p_ny,y_ny = 0,0,0\n",
    "    spot_age,puff_age,yertle_age = func(s_ny,p_ny,y_ny,corr)\n",
    "\n",
    "\n",
    "\n",
    "elif corr%3 == 2: \n",
    "    corr = corr - 2\n",
    "    s_ny,p_ny,y_ny = 1,1,0\n",
    "    spot_age,puff_age,yertle_age = func(s_ny,p_ny,y_ny,corr)\n",
    "\n",
    "else:\n",
    "    if y - s == p:\n",
    "        corr = corr - 1\n",
    "        s_ny,p_ny,y_ny = 1,0,0\n",
    "        spot_age,puff_age,yertle_age = func(s_ny,p_ny,y_ny,corr)\n",
    "\n",
    "    else:\n",
    "        corr = corr - 1\n",
    "        s_ny,p_ny,y_ny = 0,1,0\n",
    "        spot_age,puff_age,yertle_age = func(s_ny,p_ny,y_ny,corr)\n",
    "\n",
    "\n",
    "print(int(spot_age),int(puff_age),int(yertle_age))"
   ]
  }
 ],
 "metadata": {
  "kernelspec": {
   "display_name": "Python 3",
   "language": "python",
   "name": "python3"
  },
  "language_info": {
   "codemirror_mode": {
    "name": "ipython",
    "version": 3
   },
   "file_extension": ".py",
   "mimetype": "text/x-python",
   "name": "python",
   "nbconvert_exporter": "python",
   "pygments_lexer": "ipython3",
   "version": "3.7.6"
  }
 },
 "nbformat": 4,
 "nbformat_minor": 4
}
