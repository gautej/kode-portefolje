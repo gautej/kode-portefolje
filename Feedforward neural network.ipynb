{
 "cells": [
  {
   "cell_type": "markdown",
   "metadata": {},
   "source": [
    "Feed forward modell jeg bruker til å teste sammenhenger mellom sentiment, finansdata og markedsutvikling.\n",
    "inputet til modellen må være en csv fil med format str([[data-input],[resultat]]).\n",
    "Dataen må være normalisert på forhånd"
   ]
  },
  {
   "cell_type": "code",
   "execution_count": null,
   "metadata": {},
   "outputs": [],
   "source": [
    "import pandas as pd\n",
    "import numpy as np\n",
    "file = pd.read_csv('input file')\n",
    "x = file.X\n",
    "y = file.Y\n",
    "\n",
    "x_list = []\n",
    "y_list = []\n",
    "number_of_tags = len(y[0].strip('][[]').split(','))\n",
    "\n",
    "for row,row_y in zip(x,y):\n",
    "    x_point = row.strip('][[]').split(',')\n",
    "    x_list.append([float(i) for i in x_point])\n",
    "    \n",
    "    y_point = row_y.strip('][[]').split(',')\n",
    "    y_list.append(np.argmax([int(i) for i in y_point]))\n",
    "print(len(x_list), len(x_list[0]))\n",
    "print(len(y_list),number_of_tags)"
   ]
  },
  {
   "cell_type": "markdown",
   "metadata": {},
   "source": [
    "For å få bedre resultat fra treningen må dataen stokkes, det gjøres i følgende blokk."
   ]
  },
  {
   "cell_type": "code",
   "execution_count": null,
   "metadata": {},
   "outputs": [],
   "source": [
    "import random\n",
    "indexes = [i for i in range(0,len(x_list))]\n",
    "random.shuffle(indexes)\n",
    "y_list_r = []\n",
    "x_list_r = []\n",
    "for index in indexes:\n",
    "    y_list_r.append(y_list[index])\n",
    "    x_list_r.append(x_list[index])"
   ]
  },
  {
   "cell_type": "markdown",
   "metadata": {},
   "source": [
    "Dette er dataloader steget. Hvis du ikke har cuda tilgjengelig vil det bli valgt cpu, merk at dette vil gjøre treningen mye tregere"
   ]
  },
  {
   "cell_type": "code",
   "execution_count": null,
   "metadata": {},
   "outputs": [],
   "source": [
    "import torch\n",
    "\n",
    "from torch.utils.data import TensorDataset, DataLoader\n",
    "device = torch.device('cuda' if torch.cuda.is_available() else 'cpu')\n",
    "\n",
    "\n",
    "x_tensor = torch.Tensor(x_list_r)\n",
    "y_tensor = torch.Tensor(y_list_r)\n",
    "\n",
    "\n",
    "\n",
    "train_dataset = TensorDataset(x_tensor[0:int(len(x_list)*0.8)], y_tensor[0:int(len(x_list)*0.8)])\n",
    "train_dataloader = DataLoader(train_dataset, batch_size=64, shuffle=True)\n",
    "\n",
    "test_dataset = TensorDataset(x_tensor[int(len(x_list)*0.8):], y_tensor[int(len(x_list)*0.8):])\n",
    "test_dataloader = DataLoader(test_dataset, batch_size=64, shuffle=False)"
   ]
  },
  {
   "cell_type": "markdown",
   "metadata": {},
   "source": [
    "For at resultatet ikke skal bli påviket av fordelingen av dataen må den vektes, det gjøres på følgende måte."
   ]
  },
  {
   "cell_type": "code",
   "execution_count": null,
   "metadata": {},
   "outputs": [],
   "source": [
    "d = {0:0,1:0}\n",
    "for i in y_tensor[0:int(len(x_list)*0.8)]:\n",
    "    d[int(i.item())] += 1\n",
    "weights = [max(d.values())/d[i] for i in d]"
   ]
  },
  {
   "cell_type": "markdown",
   "metadata": {},
   "source": [
    "Modellen som er brukt er en sequntail linear modell, med ReLU aktiveringsfunksjon"
   ]
  },
  {
   "cell_type": "code",
   "execution_count": null,
   "metadata": {},
   "outputs": [],
   "source": [
    "import torch.nn as nn\n",
    "#første input er antall kolloner i dataen\n",
    "#siste input er antall klasser i datan\n",
    "model = nn.Sequential(\n",
    "          nn.Linear(len(x_list[0]), 300),\n",
    "          nn.ReLU(),\n",
    "          nn.Linear(300, 600),\n",
    "          nn.ReLU(),\n",
    "          nn.Linear(600, 32),\n",
    "          nn.ReLU(),\n",
    "          nn.Linear(32, number_of_tags)\n",
    "          )\n",
    "model.to(device)"
   ]
  },
  {
   "cell_type": "markdown",
   "metadata": {},
   "source": [
    "Neste steg er trene modellen, jeg har brukt weight_decay=0.0005, men weight_decay er varierende og noe man optimalisere på nytt for hvert datasett"
   ]
  },
  {
   "cell_type": "code",
   "execution_count": null,
   "metadata": {},
   "outputs": [],
   "source": [
    "import torch.optim as optim\n",
    "\n",
    "loss_weights = torch.Tensor(weights).to(device)\n",
    "criterion = nn.CrossEntropyLoss(weight=loss_weights)\n",
    "optimizer = optim.Adam(model.parameters(), weight_decay=0.0005)\n",
    "\n",
    "for epoch in range(2000):  # loop over the dataset multiple times\n",
    "\n",
    "    correct_train = 0\n",
    "    total_train = 0\n",
    "    \n",
    "    running_loss_train = 0.0\n",
    "    for i, data in enumerate(train_dataloader, 0):\n",
    "        inputs, labels = data\n",
    "        inputs = inputs.to(device)\n",
    "        labels = labels.to(device)\n",
    "        # zero the parameter gradients\n",
    "        optimizer.zero_grad()\n",
    "        # forward + backward + optimize\n",
    "        outputs = model(inputs)\n",
    "        \n",
    "        _, predicted = torch.max(outputs.data, 1)\n",
    "        #predicted = predicted.to(device)\n",
    "        total_train += labels.size(0)\n",
    "        correct_train += (predicted == labels).sum().item()\n",
    "        \n",
    "        loss = criterion(outputs, labels.long())\n",
    "        loss.backward()\n",
    "        optimizer.step()\n",
    "\n",
    "        # print statistics\n",
    "        running_loss_train += loss.item()\n",
    "    \n",
    "    correct = 0\n",
    "    total = 0\n",
    "    \n",
    "    with torch.no_grad():\n",
    "        for data in test_dataloader:\n",
    "            images, labels = data\n",
    "            images = images.to(device)\n",
    "            labels = labels.to(device)\n",
    "            # calculate outputs by running images through the network\n",
    "            outputs = model(images)\n",
    "            # the class with the highest energy is what we choose as prediction\n",
    "            _, predicted = torch.max(outputs.data, 1)\n",
    "            #predicted = predicted.to(device)\n",
    "            total += labels.size(0)\n",
    "            correct += (predicted == labels).sum().item()\n",
    "\n",
    "    if (epoch % 10 == 0):\n",
    "        print('[%d] Accuracy (train): %d %%, Accuracy (test): %d %%, loss: %.3f' % \\\n",
    "              (epoch, 100 * correct_train / total_train, 100 * correct / total, running_loss_train\\\n",
    "               / len(train_dataloader)))\n",
    "\n",
    "print('Finished Training')"
   ]
  },
  {
   "cell_type": "markdown",
   "metadata": {},
   "source": [
    "For å teste modellen kan man fylle inn test_data_inpu"
   ]
  },
  {
   "cell_type": "code",
   "execution_count": null,
   "metadata": {},
   "outputs": [],
   "source": [
    "test_data_input = \n",
    "\n",
    "from scipy.special import softmax\n",
    "test = torch.Tensor(test_data_input).to(device)\n",
    "\n",
    "output = model(test).tolist()\n",
    "\n",
    "result = softmax(output)\n",
    "print(result)"
   ]
  }
 ],
 "metadata": {
  "kernelspec": {
   "display_name": "Python 3",
   "language": "python",
   "name": "python3"
  },
  "language_info": {
   "codemirror_mode": {
    "name": "ipython",
    "version": 3
   },
   "file_extension": ".py",
   "mimetype": "text/x-python",
   "name": "python",
   "nbconvert_exporter": "python",
   "pygments_lexer": "ipython3",
   "version": "3.7.6"
  }
 },
 "nbformat": 4,
 "nbformat_minor": 4
}
