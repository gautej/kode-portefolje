{
 "cells": [
  {
   "cell_type": "markdown",
   "metadata": {},
   "source": [
    "# A Multiplication Game"
   ]
  },
  {
   "cell_type": "markdown",
   "metadata": {},
   "source": [
    "Om du ønsker å test løsningen kan det gjøres gjennom kattis.com (vær oppmerksom på at det er anticheat på siden, så variable navnene må mest sannsynlig endres) eller gjennom blokken markert med \"test løsning\".\n",
    "\n",
    "\n",
    "Link til beskrivelse av problemet: https://open.kattis.com/problems/amultiplicationgame"
   ]
  },
  {
   "cell_type": "code",
   "execution_count": 6,
   "metadata": {},
   "outputs": [],
   "source": [
    "def brute_force(n, p, turn, dp):\n",
    "    if (p in dp[int(turn)]): \n",
    "        return dp[int(turn)][p]\n",
    "    if (p >= n):\n",
    "        return not(turn)\n",
    "    \n",
    "    options = [brute_force(n, p*i, not(turn),dp) for i in range(2,10)]\n",
    "    res =  any(options) if turn else all(options)\n",
    "    dp[int(turn)][p] = res\n",
    "    \n",
    "    return res\n"
   ]
  },
  {
   "cell_type": "code",
   "execution_count": 7,
   "metadata": {},
   "outputs": [],
   "source": [
    "import sys\n",
    "\n",
    "for i in sys.stdin:\n",
    "    n = int(i)\n",
    "    print(\"Stan wins.\" if brute_force(n,1,True,[{},{}]) else \"Ollie wins.\")"
   ]
  },
  {
   "cell_type": "markdown",
   "metadata": {},
   "source": [
    "# Test løsning"
   ]
  },
  {
   "cell_type": "code",
   "execution_count": 8,
   "metadata": {},
   "outputs": [
    {
     "name": "stdout",
     "output_type": "stream",
     "text": [
      "Stan wins.\n"
     ]
    }
   ],
   "source": [
    "#Ollie sin start gjetting. see følgende link for reglene: https://open.kattis.com/problems/amultiplicationgame \n",
    "#1<n<4294967295\n",
    "n = 5\n",
    "print(\"Stan wins.\" if brute_force(n,1,True,[{},{}]) else \"Ollie wins.\")\n"
   ]
  }
 ],
 "metadata": {
  "kernelspec": {
   "display_name": "Python 3",
   "language": "python",
   "name": "python3"
  },
  "language_info": {
   "codemirror_mode": {
    "name": "ipython",
    "version": 3
   },
   "file_extension": ".py",
   "mimetype": "text/x-python",
   "name": "python",
   "nbconvert_exporter": "python",
   "pygments_lexer": "ipython3",
   "version": "3.7.6"
  }
 },
 "nbformat": 4,
 "nbformat_minor": 4
}
